{
 "cells": [
  {
   "metadata": {},
   "cell_type": "markdown",
   "source": [
    "# dataset_utils代码说明\n",
    "AXXX类别是素材的预处理，比如找棋盘点坐标，棋子resize统一大小等。\n",
    "\n",
    "BXXX类别是合成棋谱数据，这些数据会经过透视转换。\n",
    "\n",
    "CXXX类别是将合成的反透视转换，用于训练第二个模型。\n",
    "\n",
    "模型一用于找棋盘，模型而用于找棋子，用两个模型实现棋谱的识别，大概是这样的一个思路。\n"
   ],
   "id": "aba3b69a963a12f9"
  },
  {
   "metadata": {
    "collapsed": true
   },
   "cell_type": "code",
   "outputs": [],
   "execution_count": null,
   "source": "# 安装环境",
   "id": "initial_id"
  }
 ],
 "metadata": {
  "kernelspec": {
   "display_name": "Python 3",
   "language": "python",
   "name": "python3"
  },
  "language_info": {
   "codemirror_mode": {
    "name": "ipython",
    "version": 2
   },
   "file_extension": ".py",
   "mimetype": "text/x-python",
   "name": "python",
   "nbconvert_exporter": "python",
   "pygments_lexer": "ipython2",
   "version": "2.7.6"
  }
 },
 "nbformat": 4,
 "nbformat_minor": 5
}
