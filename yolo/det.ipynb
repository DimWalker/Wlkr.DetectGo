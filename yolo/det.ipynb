{
 "cells": [
  {
   "metadata": {},
   "cell_type": "code",
   "source": [
    "# pytorch GPU环境\n",
    "!pip install torch torchvision torchaudio --index-url https://download.pytorch.org/whl/cu118\n",
    "\n",
    "#!pip install torch==2.2.1 torchvision==0.17.1 --index-url https://download.pytorch.org/whl/cu118\n",
    "\n",
    "#!pip install torch==2.2.1 torchvision==0.17.1 torchaudio==2.2.1 -f https://mirrors.aliyun.com/pytorch-wheels/cu118\n",
    "\n",
    "# yolo环境\n",
    "!pip install ultralytics\n",
    "\n"
   ],
   "id": "1ec033c7c095f1d3",
   "outputs": [],
   "execution_count": null
  },
  {
   "metadata": {
    "ExecuteTime": {
     "end_time": "2025-07-09T14:47:40.418510Z",
     "start_time": "2025-07-09T14:47:38.260839Z"
    }
   },
   "cell_type": "code",
   "source": [
    "import torch\n",
    "print(torch.__version__)  #\n",
    "print(torch.cuda.is_available())  # 输出 True 表示 GPU 可用\n",
    "print(torch.cuda.current_device())  # 返回当前 GPU 设备索引"
   ],
   "id": "ac70eaa1ddca066c",
   "outputs": [
    {
     "name": "stdout",
     "output_type": "stream",
     "text": [
      "2.7.1+cu118\n",
      "True\n",
      "0\n"
     ]
    }
   ],
   "execution_count": 1
  },
  {
   "metadata": {
    "ExecuteTime": {
     "end_time": "2025-07-09T14:50:01.699476Z",
     "start_time": "2025-07-09T14:49:55.699243Z"
    }
   },
   "cell_type": "code",
   "source": [
    "# 测试并下载模型，首次运行会比较慢\n",
    "# 可以不用下载全部尺寸模型，自行选择\n",
    "# 建议用工具自行下载：https://github.com/ultralytics/assets/releases\n",
    "# 下载完后放到本目录下\n",
    "!yolo predict model=yolov8n.pt source='https://ultralytics.com/images/bus.jpg'\n",
    "#!yolo predict model=yolov8s.pt source='https://ultralytics.com/images/bus.jpg'\n",
    "#!yolo predict model=yolov8m.pt source='https://ultralytics.com/images/bus.jpg'\n",
    "#!yolo predict model=yolov8l.pt source='https://ultralytics.com/images/bus.jpg'\n",
    "#!yolo predict model=yolov8x.pt source='https://ultralytics.com/images/bus.jpg'"
   ],
   "id": "d750b2303c74c5dd",
   "outputs": [
    {
     "name": "stdout",
     "output_type": "stream",
     "text": [
      "Ultralytics 8.3.163  Python-3.12.11 torch-2.7.1+cu118 CUDA:0 (NVIDIA GeForce RTX 4060 Ti, 16380MiB)\n",
      "YOLOv8n summary (fused): 72 layers, 3,151,904 parameters, 0 gradients, 8.7 GFLOPs\n",
      "\n",
      "Found https://ultralytics.com/images/bus.jpg locally at bus.jpg\n",
      "image 1/1 D:\\Workarea\\Private_Project\\Wlkr.DetectGo\\yolo\\bus.jpg: 640x480 4 persons, 1 bus, 1 stop sign, 60.2ms\n",
      "Speed: 1.8ms preprocess, 60.2ms inference, 54.7ms postprocess per image at shape (1, 3, 640, 480)\n",
      "Results saved to \u001B[1mruns\\detect\\predict20\u001B[0m\n",
      " Learn more at https://docs.ultralytics.com/modes/predict\n"
     ]
    }
   ],
   "execution_count": 2
  },
  {
   "metadata": {
    "ExecuteTime": {
     "end_time": "2025-07-09T14:53:59.798330Z",
     "start_time": "2025-07-09T14:53:59.786858Z"
    }
   },
   "cell_type": "code",
   "source": [
    "import os\n",
    "\n",
    "current_dir = os.getcwd()  # 获取当前工作目录\n",
    "print(\"当前文件夹位置:\", current_dir)"
   ],
   "id": "58edba3b5c98d039",
   "outputs": [
    {
     "name": "stdout",
     "output_type": "stream",
     "text": [
      "当前文件夹位置: D:\\Workarea\\Private_Project\\Wlkr.DetectGo\\yolo\n"
     ]
    }
   ],
   "execution_count": 4
  },
  {
   "cell_type": "code",
   "id": "initial_id",
   "metadata": {
    "collapsed": true,
    "ExecuteTime": {
     "end_time": "2025-07-09T15:00:39.607890Z",
     "start_time": "2025-07-09T14:59:32.483936Z"
    }
   },
   "source": [
    "\n",
    "\n",
    "# 新的训练\n",
    "!yolo detect train data=go_board_det.yaml model=yolov8l.pt epochs=100 imgsz=640 batch=16\n"
   ],
   "outputs": [
    {
     "name": "stdout",
     "output_type": "stream",
     "text": [
      "^C\n"
     ]
    }
   ],
   "execution_count": 1
  }
 ],
 "metadata": {
  "kernelspec": {
   "display_name": "Python 3",
   "language": "python",
   "name": "python3"
  },
  "language_info": {
   "codemirror_mode": {
    "name": "ipython",
    "version": 2
   },
   "file_extension": ".py",
   "mimetype": "text/x-python",
   "name": "python",
   "nbconvert_exporter": "python",
   "pygments_lexer": "ipython2",
   "version": "2.7.6"
  }
 },
 "nbformat": 4,
 "nbformat_minor": 5
}
